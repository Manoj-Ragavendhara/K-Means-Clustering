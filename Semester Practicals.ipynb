{
 "cells": [
  {
   "cell_type": "code",
   "execution_count": 4,
   "metadata": {},
   "outputs": [],
   "source": [
    "from pandas import DataFrame\n",
    "import matplotlib.pyplot as plt\n",
    "from sklearn.cluster import KMeans"
   ]
  },
  {
   "cell_type": "code",
   "execution_count": 8,
   "metadata": {},
   "outputs": [
    {
     "name": "stdout",
     "output_type": "stream",
     "text": [
      "X: [40, 50, 35, 52, 57, 51, 44, 56, 72, 47, 34, 33, 78, 71, 62, 43, 69, 45, 54, 77, 46, 48, 39, 49, 32, 38, 60, 64, 53, 66]\n",
      "Y: [83, 60, 96, 98, 65, 81, 67, 69, 66, 90, 64, 74, 78, 77, 93, 99, 70, 88, 79, 75, 62, 97, 91, 86, 95, 63, 68, 73, 82, 94]\n"
     ]
    },
    {
     "data": {
      "text/html": [
       "<div>\n",
       "<style scoped>\n",
       "    .dataframe tbody tr th:only-of-type {\n",
       "        vertical-align: middle;\n",
       "    }\n",
       "\n",
       "    .dataframe tbody tr th {\n",
       "        vertical-align: top;\n",
       "    }\n",
       "\n",
       "    .dataframe thead th {\n",
       "        text-align: right;\n",
       "    }\n",
       "</style>\n",
       "<table border=\"1\" class=\"dataframe\">\n",
       "  <thead>\n",
       "    <tr style=\"text-align: right;\">\n",
       "      <th></th>\n",
       "      <th>X</th>\n",
       "      <th>Y</th>\n",
       "    </tr>\n",
       "  </thead>\n",
       "  <tbody>\n",
       "    <tr>\n",
       "      <th>0</th>\n",
       "      <td>40</td>\n",
       "      <td>83</td>\n",
       "    </tr>\n",
       "    <tr>\n",
       "      <th>1</th>\n",
       "      <td>50</td>\n",
       "      <td>60</td>\n",
       "    </tr>\n",
       "    <tr>\n",
       "      <th>2</th>\n",
       "      <td>35</td>\n",
       "      <td>96</td>\n",
       "    </tr>\n",
       "    <tr>\n",
       "      <th>3</th>\n",
       "      <td>52</td>\n",
       "      <td>98</td>\n",
       "    </tr>\n",
       "    <tr>\n",
       "      <th>4</th>\n",
       "      <td>57</td>\n",
       "      <td>65</td>\n",
       "    </tr>\n",
       "  </tbody>\n",
       "</table>\n",
       "</div>"
      ],
      "text/plain": [
       "    X   Y\n",
       "0  40  83\n",
       "1  50  60\n",
       "2  35  96\n",
       "3  52  98\n",
       "4  57  65"
      ]
     },
     "execution_count": 8,
     "metadata": {},
     "output_type": "execute_result"
    }
   ],
   "source": [
    "# Creating a random dataset of 30 elements with \n",
    "# x and y variables using random function\n",
    "# between 30 to 80 integers for x and 60 to 100 integers for y\n",
    "import random\n",
    "import numpy\n",
    "x_col=random.sample(range(30, 80), 30)\n",
    "print(\"X:\",x_col)\n",
    "y_col=random.sample(range(60, 100), 30)\n",
    "print(\"Y:\",y_col)\n",
    "values={'X':x_col,'Y':y_col}\n",
    "dt= DataFrame(values)\n",
    "dt.head()"
   ]
  },
  {
   "cell_type": "code",
   "execution_count": 9,
   "metadata": {},
   "outputs": [
    {
     "name": "stdout",
     "output_type": "stream",
     "text": [
      "[[46.33333333 89.8       ]\n",
      " [58.         69.06666667]]\n"
     ]
    },
    {
     "data": {
      "image/png": "[encoded data removed]",
      "text/plain": [
       "<Figure size 432x288 with 1 Axes>"
      ]
     },
     "metadata": {
      "needs_background": "light"
     },
     "output_type": "display_data"
    }
   ],
   "source": [
    "#Dividing the dataset into two clusters\n",
    "kmeans = KMeans(n_clusters=2).fit(dt)\n",
    "centroids = kmeans.cluster_centers_\n",
    "print(centroids)\n",
    "\n",
    "plt.scatter(dt['X'], dt['Y'], c= kmeans.labels_.astype(float), s=50, alpha=0.5)\n",
    "plt.scatter(centroids[:, 0], centroids[:, 1], c='red', s=50)\n",
    "plt.xlabel(\"x-values\")\n",
    "plt.ylabel(\"y-values\")\n",
    "plt.show()\n",
    "\n",
    "# the center of each cluster (in red) \n",
    "#represents the mean of all the observations that belong to that cluster.\n"
   ]
  },
  {
   "cell_type": "code",
   "execution_count": 11,
   "metadata": {},
   "outputs": [],
   "source": [
    "#visualising the clusters using tkinter GUI\n",
    "import tkinter as tk\n",
    "from matplotlib.backends.backend_tkagg import FigureCanvasTkAgg\n",
    "root= tk.Tk()\n",
    "canvas1 = tk.Canvas(root, width = 100, height = 100)\n",
    "canvas1.pack()\n",
    "label1 = tk.Label(root, text=centroids, justify = 'center')\n",
    "canvas1.create_window(10, 90, window=label1)\n",
    "figure1 = plt.Figure(figsize=(5,4), dpi=100)\n",
    "ax1 = figure1.add_subplot(111)\n",
    "ax1.scatter(dt['X'], dt['Y'], c= kmeans.labels_.astype(float), s=50, alpha=0.5)\n",
    "ax1.scatter(centroids[:, 0], centroids[:, 1], c='red', s=50)\n",
    "scatter1 = FigureCanvasTkAgg(figure1, root) \n",
    "scatter1.get_tk_widget().pack(side=tk.LEFT, fill=tk.BOTH)\n",
    "\n",
    "root.mainloop()"
   ]
  },
  {
   "cell_type": "code",
   "execution_count": null,
   "metadata": {},
   "outputs": [],
   "source": []
  },
  {
   "cell_type": "code",
   "execution_count": null,
   "metadata": {},
   "outputs": [],
   "source": []
  }
 ],
 "metadata": {
  "kernelspec": {
   "display_name": "Python 3",
   "language": "python",
   "name": "python3"
  },
  "language_info": {
   "codemirror_mode": {
    "name": "ipython",
    "version": 3
   },
   "file_extension": ".py",
   "mimetype": "text/x-python",
   "name": "python",
   "nbconvert_exporter": "python",
   "pygments_lexer": "ipython3",
   "version": "3.8.5"
  }
 },
 "nbformat": 4,
 "nbformat_minor": 4
}
